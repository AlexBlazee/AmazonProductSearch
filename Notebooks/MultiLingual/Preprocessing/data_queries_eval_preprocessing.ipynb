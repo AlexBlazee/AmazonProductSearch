{
 "cells": [
  {
   "cell_type": "code",
   "execution_count": 1,
   "metadata": {},
   "outputs": [],
   "source": [
    "import os\n",
    "root_dir_name = 'AmazonProductSearch'\n",
    "curr_dir = os.getcwd()\n",
    "root_dir = curr_dir[:curr_dir.index(root_dir_name) + len(root_dir_name)]\n",
    "dataset_dir = os.path.join(root_dir , 'Dataset')\n",
    "ml_dataset_dir = os.path.join(dataset_dir ,'MultiLingual')\n"
   ]
  },
  {
   "cell_type": "code",
   "execution_count": 4,
   "metadata": {},
   "outputs": [
    {
     "data": {
      "text/html": [
       "<div>\n",
       "<style scoped>\n",
       "    .dataframe tbody tr th:only-of-type {\n",
       "        vertical-align: middle;\n",
       "    }\n",
       "\n",
       "    .dataframe tbody tr th {\n",
       "        vertical-align: top;\n",
       "    }\n",
       "\n",
       "    .dataframe thead th {\n",
       "        text-align: right;\n",
       "    }\n",
       "</style>\n",
       "<table border=\"1\" class=\"dataframe\">\n",
       "  <thead>\n",
       "    <tr style=\"text-align: right;\">\n",
       "      <th></th>\n",
       "      <th>example_id</th>\n",
       "      <th>query</th>\n",
       "      <th>query_id</th>\n",
       "      <th>product_id</th>\n",
       "      <th>product_locale</th>\n",
       "      <th>esci_label</th>\n",
       "      <th>small_version</th>\n",
       "      <th>large_version</th>\n",
       "      <th>split</th>\n",
       "    </tr>\n",
       "  </thead>\n",
       "  <tbody>\n",
       "    <tr>\n",
       "      <th>0</th>\n",
       "      <td>0</td>\n",
       "      <td>revent 80 cfm</td>\n",
       "      <td>0</td>\n",
       "      <td>B000MOO21W</td>\n",
       "      <td>us</td>\n",
       "      <td>I</td>\n",
       "      <td>0</td>\n",
       "      <td>1</td>\n",
       "      <td>train</td>\n",
       "    </tr>\n",
       "    <tr>\n",
       "      <th>1</th>\n",
       "      <td>1</td>\n",
       "      <td>revent 80 cfm</td>\n",
       "      <td>0</td>\n",
       "      <td>B07X3Y6B1V</td>\n",
       "      <td>us</td>\n",
       "      <td>E</td>\n",
       "      <td>0</td>\n",
       "      <td>1</td>\n",
       "      <td>train</td>\n",
       "    </tr>\n",
       "    <tr>\n",
       "      <th>2</th>\n",
       "      <td>2</td>\n",
       "      <td>revent 80 cfm</td>\n",
       "      <td>0</td>\n",
       "      <td>B07WDM7MQQ</td>\n",
       "      <td>us</td>\n",
       "      <td>E</td>\n",
       "      <td>0</td>\n",
       "      <td>1</td>\n",
       "      <td>train</td>\n",
       "    </tr>\n",
       "    <tr>\n",
       "      <th>3</th>\n",
       "      <td>3</td>\n",
       "      <td>revent 80 cfm</td>\n",
       "      <td>0</td>\n",
       "      <td>B07RH6Z8KW</td>\n",
       "      <td>us</td>\n",
       "      <td>E</td>\n",
       "      <td>0</td>\n",
       "      <td>1</td>\n",
       "      <td>train</td>\n",
       "    </tr>\n",
       "    <tr>\n",
       "      <th>4</th>\n",
       "      <td>4</td>\n",
       "      <td>revent 80 cfm</td>\n",
       "      <td>0</td>\n",
       "      <td>B07QJ7WYFQ</td>\n",
       "      <td>us</td>\n",
       "      <td>E</td>\n",
       "      <td>0</td>\n",
       "      <td>1</td>\n",
       "      <td>train</td>\n",
       "    </tr>\n",
       "    <tr>\n",
       "      <th>...</th>\n",
       "      <td>...</td>\n",
       "      <td>...</td>\n",
       "      <td>...</td>\n",
       "      <td>...</td>\n",
       "      <td>...</td>\n",
       "      <td>...</td>\n",
       "      <td>...</td>\n",
       "      <td>...</td>\n",
       "      <td>...</td>\n",
       "    </tr>\n",
       "    <tr>\n",
       "      <th>2621283</th>\n",
       "      <td>2621283</td>\n",
       "      <td>�����j�[�h�p�[�x abrasus</td>\n",
       "      <td>130651</td>\n",
       "      <td>B0063ASUY4</td>\n",
       "      <td>jp</td>\n",
       "      <td>E</td>\n",
       "      <td>0</td>\n",
       "      <td>1</td>\n",
       "      <td>test</td>\n",
       "    </tr>\n",
       "    <tr>\n",
       "      <th>2621284</th>\n",
       "      <td>2621284</td>\n",
       "      <td>�����j�[�h�p�[�x abrasus</td>\n",
       "      <td>130651</td>\n",
       "      <td>B0062EZYIG</td>\n",
       "      <td>jp</td>\n",
       "      <td>E</td>\n",
       "      <td>0</td>\n",
       "      <td>1</td>\n",
       "      <td>test</td>\n",
       "    </tr>\n",
       "    <tr>\n",
       "      <th>2621285</th>\n",
       "      <td>2621285</td>\n",
       "      <td>�����j�[�h�p�[�x abrasus</td>\n",
       "      <td>130651</td>\n",
       "      <td>B07H8MWBZN</td>\n",
       "      <td>jp</td>\n",
       "      <td>S</td>\n",
       "      <td>0</td>\n",
       "      <td>1</td>\n",
       "      <td>test</td>\n",
       "    </tr>\n",
       "    <tr>\n",
       "      <th>2621286</th>\n",
       "      <td>2621286</td>\n",
       "      <td>�����j�[�h�p�[�x abrasus</td>\n",
       "      <td>130651</td>\n",
       "      <td>B00IZH4T9S</td>\n",
       "      <td>jp</td>\n",
       "      <td>E</td>\n",
       "      <td>0</td>\n",
       "      <td>1</td>\n",
       "      <td>test</td>\n",
       "    </tr>\n",
       "    <tr>\n",
       "      <th>2621287</th>\n",
       "      <td>2621287</td>\n",
       "      <td>�����j�[�h�p�[�x abrasus</td>\n",
       "      <td>130651</td>\n",
       "      <td>B07R536DG1</td>\n",
       "      <td>jp</td>\n",
       "      <td>E</td>\n",
       "      <td>0</td>\n",
       "      <td>1</td>\n",
       "      <td>test</td>\n",
       "    </tr>\n",
       "  </tbody>\n",
       "</table>\n",
       "<p>2621288 rows × 9 columns</p>\n",
       "</div>"
      ],
      "text/plain": [
       "         example_id                     query  query_id  product_id  \\\n",
       "0                 0             revent 80 cfm         0  B000MOO21W   \n",
       "1                 1             revent 80 cfm         0  B07X3Y6B1V   \n",
       "2                 2             revent 80 cfm         0  B07WDM7MQQ   \n",
       "3                 3             revent 80 cfm         0  B07RH6Z8KW   \n",
       "4                 4             revent 80 cfm         0  B07QJ7WYFQ   \n",
       "...             ...                       ...       ...         ...   \n",
       "2621283     2621283  �����j�[�h�p�[�x abrasus    130651  B0063ASUY4   \n",
       "2621284     2621284  �����j�[�h�p�[�x abrasus    130651  B0062EZYIG   \n",
       "2621285     2621285  �����j�[�h�p�[�x abrasus    130651  B07H8MWBZN   \n",
       "2621286     2621286  �����j�[�h�p�[�x abrasus    130651  B00IZH4T9S   \n",
       "2621287     2621287  �����j�[�h�p�[�x abrasus    130651  B07R536DG1   \n",
       "\n",
       "        product_locale esci_label  small_version  large_version  split  \n",
       "0                   us          I              0              1  train  \n",
       "1                   us          E              0              1  train  \n",
       "2                   us          E              0              1  train  \n",
       "3                   us          E              0              1  train  \n",
       "4                   us          E              0              1  train  \n",
       "...                ...        ...            ...            ...    ...  \n",
       "2621283             jp          E              0              1   test  \n",
       "2621284             jp          E              0              1   test  \n",
       "2621285             jp          S              0              1   test  \n",
       "2621286             jp          E              0              1   test  \n",
       "2621287             jp          E              0              1   test  \n",
       "\n",
       "[2621288 rows x 9 columns]"
      ]
     },
     "execution_count": 4,
     "metadata": {},
     "output_type": "execute_result"
    }
   ],
   "source": [
    "import pandas as pd \n",
    "df_main = pd.read_parquet(os.path.join(ml_dataset_dir , 'finalized_dataset_forvectorization.parquet'))\n",
    "df_queries = pd.read_parquet(os.path.join(dataset_dir , 'shopping_queries_dataset_examples.parquet'))\n",
    "df_queries"
   ]
  },
  {
   "cell_type": "code",
   "execution_count": 14,
   "metadata": {},
   "outputs": [],
   "source": [
    "df_queries_h = df_queries[df_queries['small_version'] == 1]\n",
    "df_queries_e = df_queries[df_queries['small_version'] == 0]"
   ]
  },
  {
   "cell_type": "code",
   "execution_count": 15,
   "metadata": {},
   "outputs": [
    {
     "data": {
      "text/plain": [
       "(82360, 48300)"
      ]
     },
     "execution_count": 15,
     "metadata": {},
     "output_type": "execute_result"
    }
   ],
   "source": [
    "len(df_queries_e['query_id'].unique()), len(df_queries_h['query_id'].unique())"
   ]
  },
  {
   "cell_type": "code",
   "execution_count": 19,
   "metadata": {},
   "outputs": [
    {
     "name": "stderr",
     "output_type": "stream",
     "text": [
      "C:\\Users\\prade\\AppData\\Local\\Temp\\ipykernel_24288\\1586428510.py:1: SettingWithCopyWarning: \n",
      "A value is trying to be set on a copy of a slice from a DataFrame.\n",
      "Try using .loc[row_indexer,col_indexer] = value instead\n",
      "\n",
      "See the caveats in the documentation: https://pandas.pydata.org/pandas-docs/stable/user_guide/indexing.html#returning-a-view-versus-a-copy\n",
      "  df_queries_h['product_id'] = df_queries_h['product_locale'] + df_queries_h['product_id']\n",
      "C:\\Users\\prade\\AppData\\Local\\Temp\\ipykernel_24288\\1586428510.py:2: SettingWithCopyWarning: \n",
      "A value is trying to be set on a copy of a slice from a DataFrame.\n",
      "Try using .loc[row_indexer,col_indexer] = value instead\n",
      "\n",
      "See the caveats in the documentation: https://pandas.pydata.org/pandas-docs/stable/user_guide/indexing.html#returning-a-view-versus-a-copy\n",
      "  df_queries_e['product_id'] = df_queries_e['product_locale'] + df_queries_e['product_id']\n"
     ]
    }
   ],
   "source": [
    "df_queries_h['product_id'] = df_queries_h['product_locale'] + df_queries_h['product_id']\n",
    "df_queries_e['product_id'] = df_queries_e['product_locale'] + df_queries_e['product_id']"
   ]
  },
  {
   "cell_type": "code",
   "execution_count": 21,
   "metadata": {},
   "outputs": [
    {
     "data": {
      "text/plain": [
       "(82360, 48300)"
      ]
     },
     "execution_count": 21,
     "metadata": {},
     "output_type": "execute_result"
    }
   ],
   "source": [
    "len(df_queries_e['query_id'].unique()), len(df_queries_h['query_id'].unique())"
   ]
  },
  {
   "cell_type": "code",
   "execution_count": 22,
   "metadata": {},
   "outputs": [],
   "source": [
    "trained_product_ids = df_main['product_id']"
   ]
  },
  {
   "cell_type": "markdown",
   "metadata": {},
   "source": [
    "planning to consider a final of 10k easy , 5k hard - so give it around 33% of selection process"
   ]
  },
  {
   "cell_type": "code",
   "execution_count": 27,
   "metadata": {},
   "outputs": [
    {
     "data": {
      "text/plain": [
       "(29787, 15203)"
      ]
     },
     "execution_count": 27,
     "metadata": {},
     "output_type": "execute_result"
    }
   ],
   "source": [
    "(df_queries_e[(df_queries_e['product_id'].isin(trained_product_ids)) & (df_queries_e['esci_label'].isin(['E','S']))]['query_id'].value_counts() > 4).sum() , \\\n",
    " (df_queries_h[(df_queries_h['product_id'].isin(trained_product_ids)) & (df_queries_h['esci_label'].isin(['E','S']))]['query_id'].value_counts() > 4).sum()"
   ]
  },
  {
   "cell_type": "markdown",
   "metadata": {},
   "source": [
    "Stargies query selection process as we have removed a lot of products in the data preprocessing step"
   ]
  },
  {
   "cell_type": "code",
   "execution_count": 28,
   "metadata": {},
   "outputs": [],
   "source": [
    "easy_sampled_query = (df_queries_e[(df_queries_e['product_id'].isin(trained_product_ids)) & (df_queries_e['esci_label'].isin(['E','S']))]['query_id'].value_counts() > 4)\n",
    "easy_sampled_query_index = easy_sampled_query.index[easy_sampled_query.values]\n",
    "hard_sampled_query = (df_queries_h[(df_queries_h['product_id'].isin(trained_product_ids)) & (df_queries_h['esci_label'].isin(['E','S']))]['query_id'].value_counts() > 4)\n",
    "hard_sampled_query_index = hard_sampled_query.index[hard_sampled_query.values]"
   ]
  },
  {
   "cell_type": "code",
   "execution_count": 29,
   "metadata": {},
   "outputs": [
    {
     "data": {
      "text/plain": [
       "(29787, 15203)"
      ]
     },
     "execution_count": 29,
     "metadata": {},
     "output_type": "execute_result"
    }
   ],
   "source": [
    "len(easy_sampled_query_index) , len(hard_sampled_query_index)"
   ]
  },
  {
   "cell_type": "code",
   "execution_count": 30,
   "metadata": {},
   "outputs": [],
   "source": [
    "df_queries_e = df_queries_e[df_queries_e['query_id'].isin(easy_sampled_query_index)]\n",
    "df_queries_h = df_queries_h[df_queries_h['query_id'].isin(hard_sampled_query_index)]"
   ]
  },
  {
   "cell_type": "code",
   "execution_count": 31,
   "metadata": {},
   "outputs": [],
   "source": [
    "# randomly selection of 10 K queries from each easy and hard a with random_state = 42\n",
    "import random\n",
    "random.seed(42)\n",
    "easy_search_queries = random.sample(list(df_queries_e['query_id'].unique()) , 10000)\n",
    "hard_search_queries = random.sample(list(df_queries_h['query_id'].unique()) , 5000)\n",
    "easy_search_queries.sort()\n",
    "hard_search_queries.sort()"
   ]
  },
  {
   "cell_type": "code",
   "execution_count": 32,
   "metadata": {},
   "outputs": [
    {
     "data": {
      "text/plain": [
       "(10000, 5000)"
      ]
     },
     "execution_count": 32,
     "metadata": {},
     "output_type": "execute_result"
    }
   ],
   "source": [
    "len(easy_search_queries) , len(hard_search_queries)"
   ]
  },
  {
   "cell_type": "code",
   "execution_count": 33,
   "metadata": {},
   "outputs": [],
   "source": [
    "df_queries_e = df_queries_e[df_queries_e['query_id'].isin(easy_search_queries)]\n",
    "df_queries_h = df_queries_h[df_queries_h['query_id'].isin(hard_search_queries)]"
   ]
  },
  {
   "cell_type": "code",
   "execution_count": 34,
   "metadata": {},
   "outputs": [
    {
     "data": {
      "text/html": [
       "<div>\n",
       "<style scoped>\n",
       "    .dataframe tbody tr th:only-of-type {\n",
       "        vertical-align: middle;\n",
       "    }\n",
       "\n",
       "    .dataframe tbody tr th {\n",
       "        vertical-align: top;\n",
       "    }\n",
       "\n",
       "    .dataframe thead th {\n",
       "        text-align: right;\n",
       "    }\n",
       "</style>\n",
       "<table border=\"1\" class=\"dataframe\">\n",
       "  <thead>\n",
       "    <tr style=\"text-align: right;\">\n",
       "      <th></th>\n",
       "      <th>example_id</th>\n",
       "      <th>query</th>\n",
       "      <th>query_id</th>\n",
       "      <th>product_id</th>\n",
       "      <th>product_locale</th>\n",
       "      <th>esci_label</th>\n",
       "      <th>small_version</th>\n",
       "      <th>large_version</th>\n",
       "      <th>split</th>\n",
       "    </tr>\n",
       "  </thead>\n",
       "  <tbody>\n",
       "    <tr>\n",
       "      <th>2019</th>\n",
       "      <td>2019</td>\n",
       "      <td>$10 blanket</td>\n",
       "      <td>65</td>\n",
       "      <td>usB07V3MBK82</td>\n",
       "      <td>us</td>\n",
       "      <td>E</td>\n",
       "      <td>0</td>\n",
       "      <td>1</td>\n",
       "      <td>train</td>\n",
       "    </tr>\n",
       "    <tr>\n",
       "      <th>2020</th>\n",
       "      <td>2020</td>\n",
       "      <td>$10 blanket</td>\n",
       "      <td>65</td>\n",
       "      <td>usB08BJG8S76</td>\n",
       "      <td>us</td>\n",
       "      <td>E</td>\n",
       "      <td>0</td>\n",
       "      <td>1</td>\n",
       "      <td>train</td>\n",
       "    </tr>\n",
       "    <tr>\n",
       "      <th>2021</th>\n",
       "      <td>2021</td>\n",
       "      <td>$10 blanket</td>\n",
       "      <td>65</td>\n",
       "      <td>usB0871Y1FPD</td>\n",
       "      <td>us</td>\n",
       "      <td>E</td>\n",
       "      <td>0</td>\n",
       "      <td>1</td>\n",
       "      <td>train</td>\n",
       "    </tr>\n",
       "    <tr>\n",
       "      <th>2022</th>\n",
       "      <td>2022</td>\n",
       "      <td>$10 blanket</td>\n",
       "      <td>65</td>\n",
       "      <td>usB0837GR8RT</td>\n",
       "      <td>us</td>\n",
       "      <td>E</td>\n",
       "      <td>0</td>\n",
       "      <td>1</td>\n",
       "      <td>train</td>\n",
       "    </tr>\n",
       "    <tr>\n",
       "      <th>2023</th>\n",
       "      <td>2023</td>\n",
       "      <td>$10 blanket</td>\n",
       "      <td>65</td>\n",
       "      <td>usB0834D8MJ3</td>\n",
       "      <td>us</td>\n",
       "      <td>E</td>\n",
       "      <td>0</td>\n",
       "      <td>1</td>\n",
       "      <td>train</td>\n",
       "    </tr>\n",
       "    <tr>\n",
       "      <th>...</th>\n",
       "      <td>...</td>\n",
       "      <td>...</td>\n",
       "      <td>...</td>\n",
       "      <td>...</td>\n",
       "      <td>...</td>\n",
       "      <td>...</td>\n",
       "      <td>...</td>\n",
       "      <td>...</td>\n",
       "      <td>...</td>\n",
       "    </tr>\n",
       "    <tr>\n",
       "      <th>2620494</th>\n",
       "      <td>2620494</td>\n",
       "      <td>ｓｐｏ２</td>\n",
       "      <td>130615</td>\n",
       "      <td>jpB01LEA4R26</td>\n",
       "      <td>jp</td>\n",
       "      <td>E</td>\n",
       "      <td>0</td>\n",
       "      <td>1</td>\n",
       "      <td>train</td>\n",
       "    </tr>\n",
       "    <tr>\n",
       "      <th>2620495</th>\n",
       "      <td>2620495</td>\n",
       "      <td>ｓｐｏ２</td>\n",
       "      <td>130615</td>\n",
       "      <td>jpB01LEA4QYU</td>\n",
       "      <td>jp</td>\n",
       "      <td>E</td>\n",
       "      <td>0</td>\n",
       "      <td>1</td>\n",
       "      <td>train</td>\n",
       "    </tr>\n",
       "    <tr>\n",
       "      <th>2620496</th>\n",
       "      <td>2620496</td>\n",
       "      <td>ｓｐｏ２</td>\n",
       "      <td>130615</td>\n",
       "      <td>jpB005FDPBVK</td>\n",
       "      <td>jp</td>\n",
       "      <td>E</td>\n",
       "      <td>0</td>\n",
       "      <td>1</td>\n",
       "      <td>train</td>\n",
       "    </tr>\n",
       "    <tr>\n",
       "      <th>2620497</th>\n",
       "      <td>2620497</td>\n",
       "      <td>ｓｐｏ２</td>\n",
       "      <td>130615</td>\n",
       "      <td>jpB0057M8HP6</td>\n",
       "      <td>jp</td>\n",
       "      <td>E</td>\n",
       "      <td>0</td>\n",
       "      <td>1</td>\n",
       "      <td>train</td>\n",
       "    </tr>\n",
       "    <tr>\n",
       "      <th>2620498</th>\n",
       "      <td>2620498</td>\n",
       "      <td>ｓｐｏ２</td>\n",
       "      <td>130615</td>\n",
       "      <td>jpB07527H5CD</td>\n",
       "      <td>jp</td>\n",
       "      <td>E</td>\n",
       "      <td>0</td>\n",
       "      <td>1</td>\n",
       "      <td>train</td>\n",
       "    </tr>\n",
       "  </tbody>\n",
       "</table>\n",
       "<p>200574 rows × 9 columns</p>\n",
       "</div>"
      ],
      "text/plain": [
       "         example_id        query  query_id    product_id product_locale  \\\n",
       "2019           2019  $10 blanket        65  usB07V3MBK82             us   \n",
       "2020           2020  $10 blanket        65  usB08BJG8S76             us   \n",
       "2021           2021  $10 blanket        65  usB0871Y1FPD             us   \n",
       "2022           2022  $10 blanket        65  usB0837GR8RT             us   \n",
       "2023           2023  $10 blanket        65  usB0834D8MJ3             us   \n",
       "...             ...          ...       ...           ...            ...   \n",
       "2620494     2620494         ｓｐｏ２    130615  jpB01LEA4R26             jp   \n",
       "2620495     2620495         ｓｐｏ２    130615  jpB01LEA4QYU             jp   \n",
       "2620496     2620496         ｓｐｏ２    130615  jpB005FDPBVK             jp   \n",
       "2620497     2620497         ｓｐｏ２    130615  jpB0057M8HP6             jp   \n",
       "2620498     2620498         ｓｐｏ２    130615  jpB07527H5CD             jp   \n",
       "\n",
       "        esci_label  small_version  large_version  split  \n",
       "2019             E              0              1  train  \n",
       "2020             E              0              1  train  \n",
       "2021             E              0              1  train  \n",
       "2022             E              0              1  train  \n",
       "2023             E              0              1  train  \n",
       "...            ...            ...            ...    ...  \n",
       "2620494          E              0              1  train  \n",
       "2620495          E              0              1  train  \n",
       "2620496          E              0              1  train  \n",
       "2620497          E              0              1  train  \n",
       "2620498          E              0              1  train  \n",
       "\n",
       "[200574 rows x 9 columns]"
      ]
     },
     "execution_count": 34,
     "metadata": {},
     "output_type": "execute_result"
    }
   ],
   "source": [
    "df_queries_e"
   ]
  },
  {
   "cell_type": "code",
   "execution_count": 35,
   "metadata": {},
   "outputs": [
    {
     "data": {
      "text/plain": [
       "(10000, 5000)"
      ]
     },
     "execution_count": 35,
     "metadata": {},
     "output_type": "execute_result"
    }
   ],
   "source": [
    "len(df_queries_e['query_id'].unique()) , len(df_queries_h['query_id'].unique())"
   ]
  },
  {
   "cell_type": "code",
   "execution_count": 36,
   "metadata": {},
   "outputs": [
    {
     "data": {
      "text/html": [
       "<div>\n",
       "<style scoped>\n",
       "    .dataframe tbody tr th:only-of-type {\n",
       "        vertical-align: middle;\n",
       "    }\n",
       "\n",
       "    .dataframe tbody tr th {\n",
       "        vertical-align: top;\n",
       "    }\n",
       "\n",
       "    .dataframe thead th {\n",
       "        text-align: right;\n",
       "    }\n",
       "</style>\n",
       "<table border=\"1\" class=\"dataframe\">\n",
       "  <thead>\n",
       "    <tr style=\"text-align: right;\">\n",
       "      <th></th>\n",
       "      <th>example_id</th>\n",
       "      <th>query</th>\n",
       "      <th>query_id</th>\n",
       "      <th>product_id</th>\n",
       "      <th>product_locale</th>\n",
       "      <th>esci_label</th>\n",
       "      <th>small_version</th>\n",
       "      <th>large_version</th>\n",
       "      <th>split</th>\n",
       "    </tr>\n",
       "  </thead>\n",
       "  <tbody>\n",
       "    <tr>\n",
       "      <th>70</th>\n",
       "      <td>70</td>\n",
       "      <td>!solid camiseta sin manga</td>\n",
       "      <td>3</td>\n",
       "      <td>esB08TQH4RBB</td>\n",
       "      <td>es</td>\n",
       "      <td>E</td>\n",
       "      <td>1</td>\n",
       "      <td>1</td>\n",
       "      <td>train</td>\n",
       "    </tr>\n",
       "    <tr>\n",
       "      <th>71</th>\n",
       "      <td>71</td>\n",
       "      <td>!solid camiseta sin manga</td>\n",
       "      <td>3</td>\n",
       "      <td>esB08H2H18DN</td>\n",
       "      <td>es</td>\n",
       "      <td>E</td>\n",
       "      <td>1</td>\n",
       "      <td>1</td>\n",
       "      <td>train</td>\n",
       "    </tr>\n",
       "    <tr>\n",
       "      <th>72</th>\n",
       "      <td>72</td>\n",
       "      <td>!solid camiseta sin manga</td>\n",
       "      <td>3</td>\n",
       "      <td>esB08HJQJT2T</td>\n",
       "      <td>es</td>\n",
       "      <td>E</td>\n",
       "      <td>1</td>\n",
       "      <td>1</td>\n",
       "      <td>train</td>\n",
       "    </tr>\n",
       "    <tr>\n",
       "      <th>73</th>\n",
       "      <td>73</td>\n",
       "      <td>!solid camiseta sin manga</td>\n",
       "      <td>3</td>\n",
       "      <td>esB08LP68XTS</td>\n",
       "      <td>es</td>\n",
       "      <td>S</td>\n",
       "      <td>1</td>\n",
       "      <td>1</td>\n",
       "      <td>train</td>\n",
       "    </tr>\n",
       "    <tr>\n",
       "      <th>74</th>\n",
       "      <td>74</td>\n",
       "      <td>!solid camiseta sin manga</td>\n",
       "      <td>3</td>\n",
       "      <td>esB08NDS1HS2</td>\n",
       "      <td>es</td>\n",
       "      <td>E</td>\n",
       "      <td>1</td>\n",
       "      <td>1</td>\n",
       "      <td>train</td>\n",
       "    </tr>\n",
       "    <tr>\n",
       "      <th>...</th>\n",
       "      <td>...</td>\n",
       "      <td>...</td>\n",
       "      <td>...</td>\n",
       "      <td>...</td>\n",
       "      <td>...</td>\n",
       "      <td>...</td>\n",
       "      <td>...</td>\n",
       "      <td>...</td>\n",
       "      <td>...</td>\n",
       "    </tr>\n",
       "    <tr>\n",
       "      <th>2620981</th>\n",
       "      <td>2620981</td>\n",
       "      <td>ｻｳﾅﾏｯﾄ</td>\n",
       "      <td>130636</td>\n",
       "      <td>jpB07DPKTY7Y</td>\n",
       "      <td>jp</td>\n",
       "      <td>E</td>\n",
       "      <td>1</td>\n",
       "      <td>1</td>\n",
       "      <td>train</td>\n",
       "    </tr>\n",
       "    <tr>\n",
       "      <th>2620982</th>\n",
       "      <td>2620982</td>\n",
       "      <td>ｻｳﾅﾏｯﾄ</td>\n",
       "      <td>130636</td>\n",
       "      <td>jpB08DVCB8PM</td>\n",
       "      <td>jp</td>\n",
       "      <td>E</td>\n",
       "      <td>1</td>\n",
       "      <td>1</td>\n",
       "      <td>train</td>\n",
       "    </tr>\n",
       "    <tr>\n",
       "      <th>2620983</th>\n",
       "      <td>2620983</td>\n",
       "      <td>ｻｳﾅﾏｯﾄ</td>\n",
       "      <td>130636</td>\n",
       "      <td>jpB07BYJ5R9P</td>\n",
       "      <td>jp</td>\n",
       "      <td>S</td>\n",
       "      <td>1</td>\n",
       "      <td>1</td>\n",
       "      <td>train</td>\n",
       "    </tr>\n",
       "    <tr>\n",
       "      <th>2620984</th>\n",
       "      <td>2620984</td>\n",
       "      <td>ｻｳﾅﾏｯﾄ</td>\n",
       "      <td>130636</td>\n",
       "      <td>jpB07BC9VDNJ</td>\n",
       "      <td>jp</td>\n",
       "      <td>E</td>\n",
       "      <td>1</td>\n",
       "      <td>1</td>\n",
       "      <td>train</td>\n",
       "    </tr>\n",
       "    <tr>\n",
       "      <th>2620985</th>\n",
       "      <td>2620985</td>\n",
       "      <td>ｻｳﾅﾏｯﾄ</td>\n",
       "      <td>130636</td>\n",
       "      <td>jpB07CH9R2VH</td>\n",
       "      <td>jp</td>\n",
       "      <td>I</td>\n",
       "      <td>1</td>\n",
       "      <td>1</td>\n",
       "      <td>train</td>\n",
       "    </tr>\n",
       "  </tbody>\n",
       "</table>\n",
       "<p>138641 rows × 9 columns</p>\n",
       "</div>"
      ],
      "text/plain": [
       "         example_id                      query  query_id    product_id  \\\n",
       "70               70  !solid camiseta sin manga         3  esB08TQH4RBB   \n",
       "71               71  !solid camiseta sin manga         3  esB08H2H18DN   \n",
       "72               72  !solid camiseta sin manga         3  esB08HJQJT2T   \n",
       "73               73  !solid camiseta sin manga         3  esB08LP68XTS   \n",
       "74               74  !solid camiseta sin manga         3  esB08NDS1HS2   \n",
       "...             ...                        ...       ...           ...   \n",
       "2620981     2620981                     ｻｳﾅﾏｯﾄ    130636  jpB07DPKTY7Y   \n",
       "2620982     2620982                     ｻｳﾅﾏｯﾄ    130636  jpB08DVCB8PM   \n",
       "2620983     2620983                     ｻｳﾅﾏｯﾄ    130636  jpB07BYJ5R9P   \n",
       "2620984     2620984                     ｻｳﾅﾏｯﾄ    130636  jpB07BC9VDNJ   \n",
       "2620985     2620985                     ｻｳﾅﾏｯﾄ    130636  jpB07CH9R2VH   \n",
       "\n",
       "        product_locale esci_label  small_version  large_version  split  \n",
       "70                  es          E              1              1  train  \n",
       "71                  es          E              1              1  train  \n",
       "72                  es          E              1              1  train  \n",
       "73                  es          S              1              1  train  \n",
       "74                  es          E              1              1  train  \n",
       "...                ...        ...            ...            ...    ...  \n",
       "2620981             jp          E              1              1  train  \n",
       "2620982             jp          E              1              1  train  \n",
       "2620983             jp          S              1              1  train  \n",
       "2620984             jp          E              1              1  train  \n",
       "2620985             jp          I              1              1  train  \n",
       "\n",
       "[138641 rows x 9 columns]"
      ]
     },
     "execution_count": 36,
     "metadata": {},
     "output_type": "execute_result"
    }
   ],
   "source": [
    "df_queries_h"
   ]
  },
  {
   "cell_type": "code",
   "execution_count": 37,
   "metadata": {},
   "outputs": [],
   "source": [
    "df_queries_e.to_parquet(os.path.join(ml_dataset_dir , 'easy_search_query_dataset.parquet'))\n",
    "df_queries_h.to_parquet(os.path.join(ml_dataset_dir , 'hard_search_query_dataset.parquet'))\n"
   ]
  },
  {
   "cell_type": "code",
   "execution_count": 38,
   "metadata": {},
   "outputs": [
    {
     "data": {
      "text/plain": [
       "(10000, 5000)"
      ]
     },
     "execution_count": 38,
     "metadata": {},
     "output_type": "execute_result"
    }
   ],
   "source": [
    "len(df_queries_e['query_id'].unique()) , len(df_queries_h['query_id'].unique())"
   ]
  }
 ],
 "metadata": {
  "kernelspec": {
   "display_name": "amzpsenv",
   "language": "python",
   "name": "python3"
  },
  "language_info": {
   "codemirror_mode": {
    "name": "ipython",
    "version": 3
   },
   "file_extension": ".py",
   "mimetype": "text/x-python",
   "name": "python",
   "nbconvert_exporter": "python",
   "pygments_lexer": "ipython3",
   "version": "3.12.4"
  }
 },
 "nbformat": 4,
 "nbformat_minor": 2
}
